{
 "cells": [
  {
   "cell_type": "markdown",
   "id": "bb0a44fb",
   "metadata": {},
   "source": [
    "## Netflix Data Analysis"
   ]
  },
  {
   "cell_type": "code",
   "execution_count": null,
   "id": "c8cfd3ed",
   "metadata": {},
   "outputs": [],
   "source": [
    "import pandas as pd\n",
    "import seaborn as sns"
   ]
  },
  {
   "cell_type": "code",
   "execution_count": null,
   "id": "286073a4",
   "metadata": {},
   "outputs": [],
   "source": [
    "netflix_df=pd.read_csv('./netflix.csv')"
   ]
  },
  {
   "cell_type": "code",
   "execution_count": null,
   "id": "d84f1408",
   "metadata": {},
   "outputs": [],
   "source": [
    "netflix_df"
   ]
  },
  {
   "cell_type": "markdown",
   "id": "f081b4f6",
   "metadata": {},
   "source": [
    "### Getting basic information of dataframe"
   ]
  },
  {
   "cell_type": "code",
   "execution_count": null,
   "id": "88e83696",
   "metadata": {},
   "outputs": [],
   "source": [
    "netflix_df.shape"
   ]
  },
  {
   "cell_type": "code",
   "execution_count": null,
   "id": "822b76d9",
   "metadata": {},
   "outputs": [],
   "source": [
    "netflix_df.size"
   ]
  },
  {
   "cell_type": "code",
   "execution_count": null,
   "id": "2b22f186",
   "metadata": {},
   "outputs": [],
   "source": [
    "netflix_df.info()"
   ]
  },
  {
   "cell_type": "code",
   "execution_count": null,
   "id": "aae23c51",
   "metadata": {},
   "outputs": [],
   "source": [
    "netflix_df.head()"
   ]
  },
  {
   "cell_type": "code",
   "execution_count": null,
   "id": "182cdec2",
   "metadata": {},
   "outputs": [],
   "source": [
    "netflix_df.tail()"
   ]
  },
  {
   "cell_type": "code",
   "execution_count": null,
   "id": "f894ec73",
   "metadata": {},
   "outputs": [],
   "source": [
    "netflix_df.columns"
   ]
  },
  {
   "cell_type": "code",
   "execution_count": null,
   "id": "39ab63b9",
   "metadata": {},
   "outputs": [],
   "source": [
    "netflix_df.dtypes"
   ]
  },
  {
   "cell_type": "markdown",
   "id": "9ed82026",
   "metadata": {},
   "source": [
    "### Checking and removing duplicate values"
   ]
  },
  {
   "cell_type": "code",
   "execution_count": null,
   "id": "7408da48",
   "metadata": {},
   "outputs": [],
   "source": [
    "netflix_df.duplicated().sum()"
   ]
  },
  {
   "cell_type": "code",
   "execution_count": null,
   "id": "374f49bb",
   "metadata": {},
   "outputs": [],
   "source": [
    "netflix_df[netflix_df.duplicated()]"
   ]
  },
  {
   "cell_type": "code",
   "execution_count": null,
   "id": "658051ac",
   "metadata": {},
   "outputs": [],
   "source": [
    "netflix_df.drop_duplicates(inplace=True)"
   ]
  },
  {
   "cell_type": "code",
   "execution_count": null,
   "id": "f5b052eb",
   "metadata": {},
   "outputs": [],
   "source": [
    "netflix_df.shape"
   ]
  },
  {
   "cell_type": "markdown",
   "id": "d610fdff",
   "metadata": {},
   "source": [
    "### Checking and removing null values"
   ]
  },
  {
   "cell_type": "code",
   "execution_count": null,
   "id": "26552c49",
   "metadata": {},
   "outputs": [],
   "source": [
    "pd.isnull(netflix_df).sum()"
   ]
  },
  {
   "cell_type": "code",
   "execution_count": null,
   "id": "1d194488",
   "metadata": {},
   "outputs": [],
   "source": [
    "# Showing the null values count using heat map\n",
    "sns.heatmap(netflix_df.isnull(), cmap='Blues')"
   ]
  },
  {
   "cell_type": "markdown",
   "id": "6e97fe48",
   "metadata": {},
   "source": [
    "#### For 'House of Cards', what is the show ID and who is the director?"
   ]
  },
  {
   "cell_type": "code",
   "execution_count": null,
   "id": "d15a5b77",
   "metadata": {},
   "outputs": [],
   "source": [
    "netflix_df['Title'].isin(['House of Cards'])"
   ]
  },
  {
   "cell_type": "code",
   "execution_count": null,
   "id": "d923140f",
   "metadata": {},
   "outputs": [],
   "source": [
    "hoc_df=netflix_df[netflix_df['Title'].isin(['House of Cards'])]\n",
    "hoc_df"
   ]
  },
  {
   "cell_type": "code",
   "execution_count": null,
   "id": "1c03f4f6",
   "metadata": {},
   "outputs": [],
   "source": [
    "hoc_df.Show_Id"
   ]
  },
  {
   "cell_type": "code",
   "execution_count": null,
   "id": "0662af3f",
   "metadata": {},
   "outputs": [],
   "source": [
    "hoc_df.Director"
   ]
  },
  {
   "cell_type": "markdown",
   "id": "a49bd06a",
   "metadata": {},
   "source": [
    "#### In which year, highest number of the TV shows and movies were released?"
   ]
  },
  {
   "cell_type": "code",
   "execution_count": null,
   "id": "d37856e4",
   "metadata": {},
   "outputs": [],
   "source": [
    "netflix_df['Date_Released']=pd.to_datetime(netflix_df['Release_Date'].str.strip(), errors='coerce')"
   ]
  },
  {
   "cell_type": "code",
   "execution_count": null,
   "id": "3c5979ea",
   "metadata": {},
   "outputs": [],
   "source": [
    "netflix_df"
   ]
  },
  {
   "cell_type": "code",
   "execution_count": null,
   "id": "8d7ac8a3",
   "metadata": {},
   "outputs": [],
   "source": [
    "netflix_df.Date_Released.dtype"
   ]
  },
  {
   "cell_type": "code",
   "execution_count": null,
   "id": "8d720a60",
   "metadata": {},
   "outputs": [],
   "source": [
    "netflix_df.Date_Released.dt.year.value_counts()"
   ]
  },
  {
   "cell_type": "code",
   "execution_count": null,
   "id": "e76b8b71",
   "metadata": {},
   "outputs": [],
   "source": [
    "# Showing the results as a bar plot\n",
    "netflix_df.Date_Released.dt.year.value_counts().plot(kind='bar')"
   ]
  },
  {
   "cell_type": "markdown",
   "id": "44d83697",
   "metadata": {},
   "source": [
    "#### How many movies and tv shows are in the dataset?"
   ]
  },
  {
   "cell_type": "code",
   "execution_count": null,
   "id": "56c4ed2d",
   "metadata": {},
   "outputs": [],
   "source": [
    "netflix_df.groupby('Category').Category.count()"
   ]
  },
  {
   "cell_type": "code",
   "execution_count": null,
   "id": "31718d30",
   "metadata": {},
   "outputs": [],
   "source": [
    "ax=sns.countplot(x='Category', data=netflix_df)\n",
    "\n",
    "for bars in ax.containers:\n",
    "  ax.bar_label(bars)"
   ]
  },
  {
   "cell_type": "markdown",
   "id": "25f74cca",
   "metadata": {},
   "source": [
    "#### Show all the movies released in the year 2020"
   ]
  },
  {
   "cell_type": "code",
   "execution_count": null,
   "id": "34f37877",
   "metadata": {},
   "outputs": [],
   "source": [
    "netflix_df[(netflix_df.Category=='Movie') & (netflix_df.Date_Released.dt.year==2020)]"
   ]
  },
  {
   "cell_type": "markdown",
   "id": "2abf21f6",
   "metadata": {},
   "source": [
    "#### Show only the titles of TV shows released in India"
   ]
  },
  {
   "cell_type": "code",
   "execution_count": null,
   "id": "6e2d9220",
   "metadata": {},
   "outputs": [],
   "source": [
    "netflix_df[(netflix_df.Category=='TV Show') & (netflix_df.Country=='India')]['Title']"
   ]
  },
  {
   "cell_type": "markdown",
   "id": "10bc4409",
   "metadata": {},
   "source": [
    "#### Show top 10 directors, who gave the highest number of TV shows and movies to Netflix"
   ]
  },
  {
   "cell_type": "code",
   "execution_count": null,
   "id": "d5768e27",
   "metadata": {},
   "outputs": [],
   "source": [
    "netflix_df['Director'].value_counts().head(10)"
   ]
  },
  {
   "cell_type": "markdown",
   "id": "529ee25e",
   "metadata": {},
   "source": [
    "#### Show all the records where \"Category is `Movie` and Type is `Comedies`\" or Country is `United Kingdom`"
   ]
  },
  {
   "cell_type": "code",
   "execution_count": null,
   "id": "49ab96dd",
   "metadata": {},
   "outputs": [],
   "source": [
    "netflix_df[((netflix_df.Category=='Movie') & (netflix_df.Type=='Comedies')) | (netflix_df.Country=='United Kingdom')]"
   ]
  },
  {
   "cell_type": "markdown",
   "id": "aeead33f",
   "metadata": {},
   "source": [
    "#### In how many movies/TV shows, Tom Cruise was the cast?"
   ]
  },
  {
   "cell_type": "code",
   "execution_count": null,
   "id": "954df9f3",
   "metadata": {},
   "outputs": [],
   "source": [
    "netflix_df[netflix_df.Cast=='Tom Cruise']\n",
    "\n",
    "# .str.contains() doesn't work on null values\n",
    "# netflix_df[netflix_df['Cast'].str.contains('Tom Cruise')]"
   ]
  },
  {
   "cell_type": "markdown",
   "id": "1cefc359",
   "metadata": {},
   "source": [
    "#### What are the different ratings defined by Netflix?"
   ]
  },
  {
   "cell_type": "code",
   "execution_count": null,
   "id": "a48a688e",
   "metadata": {},
   "outputs": [],
   "source": [
    "netflix_df.Rating.nunique()"
   ]
  },
  {
   "cell_type": "code",
   "execution_count": null,
   "id": "91385cb3",
   "metadata": {},
   "outputs": [],
   "source": [
    "netflix_df.Rating.unique()"
   ]
  },
  {
   "cell_type": "markdown",
   "id": "9d3ff4e7",
   "metadata": {},
   "source": [
    "#### How many movies got the `TV-14` rating in Canada?"
   ]
  },
  {
   "cell_type": "code",
   "execution_count": null,
   "id": "2e661b49",
   "metadata": {},
   "outputs": [],
   "source": [
    "netflix_df[(netflix_df.Category=='Movie') & (netflix_df.Rating=='TV-14') & (netflix_df.Country=='Canada')].shape[0]"
   ]
  },
  {
   "cell_type": "markdown",
   "id": "5ea6a990",
   "metadata": {},
   "source": [
    "#### How many TV shows got the `R` rating after 2018?"
   ]
  },
  {
   "cell_type": "code",
   "execution_count": null,
   "id": "f91969a7",
   "metadata": {},
   "outputs": [],
   "source": [
    "netflix_df[(netflix_df.Category=='TV Show') & (netflix_df.Rating=='R') & (netflix_df.Date_Released.dt.year>2018)].shape[0]"
   ]
  },
  {
   "cell_type": "markdown",
   "id": "9b562117",
   "metadata": {},
   "source": [
    "#### What is the maximum duration of a movie/TV show on Netflix?"
   ]
  },
  {
   "cell_type": "code",
   "execution_count": null,
   "id": "f8afbb15",
   "metadata": {},
   "outputs": [],
   "source": [
    "netflix_df.Duration.unique()"
   ]
  },
  {
   "cell_type": "code",
   "execution_count": null,
   "id": "f4cc72c8",
   "metadata": {},
   "outputs": [],
   "source": [
    "netflix_df[['Minutes', 'Unit']]=netflix_df.Duration.str.split(' ', expand=True)"
   ]
  },
  {
   "cell_type": "code",
   "execution_count": null,
   "id": "89ca5da2",
   "metadata": {},
   "outputs": [],
   "source": [
    "netflix_df.head(2)"
   ]
  },
  {
   "cell_type": "code",
   "execution_count": null,
   "id": "9185bc14",
   "metadata": {},
   "outputs": [],
   "source": [
    "netflix_df.Minutes.max()"
   ]
  },
  {
   "cell_type": "code",
   "execution_count": null,
   "id": "1a145648",
   "metadata": {},
   "outputs": [],
   "source": [
    "netflix_df.Minutes.min()"
   ]
  },
  {
   "cell_type": "code",
   "execution_count": null,
   "id": "26669776",
   "metadata": {},
   "outputs": [],
   "source": [
    "netflix_df.dtypes"
   ]
  },
  {
   "cell_type": "markdown",
   "id": "2fccac55",
   "metadata": {},
   "source": [
    "#### Which individual country has the highest no. of TV shows?"
   ]
  },
  {
   "cell_type": "code",
   "execution_count": null,
   "id": "03c5824b",
   "metadata": {},
   "outputs": [],
   "source": [
    "netflix_tv_shows=netflix_df[netflix_df.Category=='TV Show']"
   ]
  },
  {
   "cell_type": "code",
   "execution_count": null,
   "id": "467858e6",
   "metadata": {},
   "outputs": [],
   "source": [
    "netflix_tv_shows.Country.value_counts()"
   ]
  },
  {
   "cell_type": "code",
   "execution_count": null,
   "id": "d5b6cc56",
   "metadata": {},
   "outputs": [],
   "source": [
    "netflix_tv_shows.Country.value_counts().head(1)"
   ]
  },
  {
   "cell_type": "markdown",
   "id": "b461354c",
   "metadata": {},
   "source": [
    "#### Sorting the dataset w.r.t year"
   ]
  },
  {
   "cell_type": "code",
   "execution_count": null,
   "id": "ebbf5d7d",
   "metadata": {},
   "outputs": [],
   "source": [
    "netflix_df['Year']=netflix_df.Date_Released.dt.year"
   ]
  },
  {
   "cell_type": "code",
   "execution_count": null,
   "id": "e9372bf5",
   "metadata": {},
   "outputs": [],
   "source": [
    "netflix_df.sort_values('Year', ascending=False).head()"
   ]
  },
  {
   "cell_type": "code",
   "execution_count": null,
   "id": "46c48474",
   "metadata": {},
   "outputs": [],
   "source": [
    "netflix_df.sort_values('Year').head()"
   ]
  }
 ],
 "metadata": {
  "kernelspec": {
   "display_name": "Python 3",
   "language": "python",
   "name": "python3"
  },
  "language_info": {
   "codemirror_mode": {
    "name": "ipython",
    "version": 3
   },
   "file_extension": ".py",
   "mimetype": "text/x-python",
   "name": "python",
   "nbconvert_exporter": "python",
   "pygments_lexer": "ipython3",
   "version": "3.12.10"
  }
 },
 "nbformat": 4,
 "nbformat_minor": 5
}
